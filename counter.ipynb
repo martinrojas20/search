{
 "cells": [
  {
   "cell_type": "code",
   "execution_count": 63,
   "metadata": {},
   "outputs": [
    {
     "name": "stdout",
     "output_type": "stream",
     "text": [
      "Requirement already satisfied: openpyxl in c:\\users\\desarrollo\\appdata\\local\\programs\\python\\python311\\lib\\site-packages (3.1.2)\n",
      "Requirement already satisfied: et-xmlfile in c:\\users\\desarrollo\\appdata\\local\\programs\\python\\python311\\lib\\site-packages (from openpyxl) (1.1.0)\n"
     ]
    }
   ],
   "source": [
    "! pip install openpyxl"
   ]
  },
  {
   "cell_type": "code",
   "execution_count": 107,
   "metadata": {},
   "outputs": [],
   "source": [
    "import os\n",
    "import PyPDF2 \n",
    "from openpyxl import Workbook\n",
    "from tkinter import Tk\n",
    "from tkinter.filedialog import askdirectory"
   ]
  },
  {
   "cell_type": "code",
   "execution_count": 108,
   "metadata": {},
   "outputs": [],
   "source": [
    "def obtener_numero_paginas_pdf(archivo_pdf):\n",
    "    with open(archivo_pdf, 'rb') as archivo:\n",
    "        lector_pdf = PyPDF2.PdfReader(archivo)\n",
    "        numero_paginas = len(lector_pdf.pages)\n",
    "        return numero_paginas"
   ]
  },
  {
   "cell_type": "code",
   "execution_count": 109,
   "metadata": {},
   "outputs": [],
   "source": [
    "def guardar_archivo_excel(*args, final=False, libro_excel=None):\n",
    "    # Inicializar el libro de Excel y la hoja de cálculo    \n",
    "    if libro_excel is None:\n",
    "        libro_excel = Workbook()\n",
    "\n",
    "    if final:        \n",
    "        hoja_resumen = libro_excel.create_sheet(title=\"Resumen\")  \n",
    "        hoja_resumen.cell(row=1, column=1, value=\"Total de Expedientes_81\")\n",
    "        hoja_resumen.cell(row=1, column=2, value=\"Total de Expedientes_54\")\n",
    "        hoja_resumen.cell(row=1, column=3, value=\"Total de Folios\")         \n",
    "                                                                                                                                                                                                                                                                                                                                                                                                                                                                    \n",
    "        hoja_resumen.cell(row=2, column=1, value=args[0])\n",
    "        hoja_resumen.cell(row=2, column=2, value=args[1])\n",
    "        hoja_resumen.cell(row=2, column=3, value=args[2])              \n",
    "        \n",
    "\n",
    "    else:\n",
    "        hoja_calculo = libro_excel.active\n",
    "        hoja_calculo.title = \"Folios X expedientes\"\n",
    "        if hoja_calculo.max_row == 1:\n",
    "        # Encabezados de la hoja de cálculo\n",
    "            hoja_calculo.cell(row=1, column=1, value=\"Expedientes\")\n",
    "            hoja_calculo.cell(row=1, column=2, value=\"Folios\")\n",
    "        if len(args) > 0:    \n",
    "            hoja_calculo.cell(row=args[0], column=1, value=args[1])\n",
    "            hoja_calculo.cell(row=args[0], column=2, value=args[2]) \n",
    "\n",
    "    return libro_excel \n",
    "              \n",
    "        \n",
    "              "
   ]
  },
  {
   "cell_type": "code",
   "execution_count": 110,
   "metadata": {},
   "outputs": [],
   "source": [
    "def buscar_archivos_pag(ruta):\n",
    "    total_paginas_pdf = 0\n",
    "    for subdirectorio, _, archivos_subdir in os.walk(ruta):#se ingresa al subdirectorio 54 o 81        \n",
    "        for archivo in archivos_subdir:# muestra archivo\n",
    "\n",
    "            if archivo.endswith('.pdf'):\n",
    "                archivo_completo = os.path.join(subdirectorio, archivo)  \n",
    "                cantidad_pag = obtener_numero_paginas_pdf( archivo_completo)            \n",
    "                total_paginas_pdf = total_paginas_pdf + cantidad_pag                    \n",
    "                \n",
    "    return total_paginas_pdf"
   ]
  },
  {
   "cell_type": "code",
   "execution_count": 111,
   "metadata": {},
   "outputs": [],
   "source": [
    "def contar_dir_y_pag(ruta):  \n",
    "    total_directorios_81 = 0\n",
    "    total_directorios_54 = 0   \n",
    "    total_paginas_pdf = 0    \n",
    "    fila_actual = 2\n",
    "    wb = guardar_archivo_excel(final=False)\n",
    "       \n",
    "    for directorio_actual, directorios, archivos in os.walk(ruta):        \n",
    "        for directorio in directorios:\n",
    "            if directorio.startswith('81') or directorio.startswith('54'):                 \n",
    "                directorio_completo = os.path.join(directorio_actual, directorio)                \n",
    "                folios = buscar_archivos_pag(directorio_completo) \n",
    "                wb = guardar_archivo_excel(fila_actual, directorio, folios, libro_excel=wb)\n",
    "                total_paginas_pdf = total_paginas_pdf + folios                              \n",
    "                fila_actual +=1 \n",
    "                if directorio.startswith('81'):\n",
    "                    total_directorios_81 += 1\n",
    "                else:\n",
    "                    total_directorios_54 +=  1 \n",
    "    \n",
    "    wb = guardar_archivo_excel(total_directorios_81, total_directorios_54, total_paginas_pdf, final=True, libro_excel=wb)\n",
    "    wb.save('informacion.xlsx')\n",
    "    \n",
    "    return total_directorios_81, total_directorios_54, total_paginas_pdf\n"
   ]
  },
  {
   "cell_type": "code",
   "execution_count": 113,
   "metadata": {},
   "outputs": [
    {
     "data": {
      "text/plain": [
       "(0, 2, 298)"
      ]
     },
     "execution_count": 113,
     "metadata": {},
     "output_type": "execute_result"
    }
   ],
   "source": [
    "contar_dir_y_pag(\"C:\\\\Users\\\\Desarrollo\\\\Downloads\\\\SANTIAGO\")"
   ]
  }
 ],
 "metadata": {
  "kernelspec": {
   "display_name": "Python 3",
   "language": "python",
   "name": "python3"
  },
  "language_info": {
   "codemirror_mode": {
    "name": "ipython",
    "version": 3
   },
   "file_extension": ".py",
   "mimetype": "text/x-python",
   "name": "python",
   "nbconvert_exporter": "python",
   "pygments_lexer": "ipython3",
   "version": "3.11.2"
  },
  "orig_nbformat": 4
 },
 "nbformat": 4,
 "nbformat_minor": 2
}
